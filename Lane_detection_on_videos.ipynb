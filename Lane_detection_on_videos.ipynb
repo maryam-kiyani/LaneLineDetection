{
 "cells": [
  {
   "cell_type": "code",
   "execution_count": 1,
   "metadata": {},
   "outputs": [],
   "source": [
    "# ---- IMPORTS ----\n",
    "import matplotlib.pyplot as plt\n",
    "import matplotlib.image as mpimg\n",
    "import numpy as np\n",
    "import cv2\n",
    "import math as m\n",
    "%matplotlib inline\n",
    "from moviepy.editor import VideoFileClip\n",
    "from IPython.display import HTML"
   ]
  },
  {
   "cell_type": "code",
   "execution_count": 2,
   "metadata": {},
   "outputs": [],
   "source": [
    "def weighted_img(img, initial_img, α=0.8, β=1., γ=0.):\n",
    "   return cv2.addWeighted(initial_img, α, img, β, γ)"
   ]
  },
  {
   "cell_type": "code",
   "execution_count": 3,
   "metadata": {},
   "outputs": [],
   "source": [
    "def dist (alist = []):\n",
    "    distance = m.sqrt(m.pow((alist[2]-alist[0]),2)+m.pow((alist[3]-alist[1]),2))\n",
    "    return distance"
   ]
  },
  {
   "cell_type": "code",
   "execution_count": 4,
   "metadata": {},
   "outputs": [],
   "source": [
    "def process_image(image1):\n",
    "    # ---- COPY IMAGE ----\n",
    "    image = np.copy(image1)\n",
    "    # Color Selection\n",
    "    # choose only yellow and white, make everything else dark\n",
    "    r_th = 200\n",
    "    g_th = 200\n",
    "    b_th = 0\n",
    "    thresholds = (image[:,:,0] < r_th) & (image[:,:,1] < g_th) #| (image[:,:,2] < b_th)\n",
    "    image[thresholds] = [0,0,0]\n",
    "    # ---- GRAY SCALE ----\n",
    "    gray = cv2.cvtColor(image,cv2.COLOR_RGB2GRAY)\n",
    "    # ---- GAUSSIAN SMOOTHING ----\n",
    "    window_size = 5\n",
    "    blur_gray = cv2.GaussianBlur(gray,(window_size, window_size), 0)\n",
    "    # ---- CANNY EDGE DETECTION ----\n",
    "    high_threshold = 140\n",
    "    low_threshold = 35\n",
    "    canny_edges = cv2.Canny(blur_gray, low_threshold, high_threshold)\n",
    "    # ---- AREA SELECTION ----\n",
    "    selected_area = np.zeros_like(canny_edges)   \n",
    "    selected_area_color = 255 \n",
    "    x_max = image.shape[1]\n",
    "    y_max = image.shape[0]\n",
    "    vertices = np.array([[((x_max/2)-5,(y_max/2)+30),((x_max/2)+5,(y_max/2)+30),(x_max-50,y_max),(50,y_max)]], dtype=np.int32)\n",
    "    cv2.fillPoly(selected_area, vertices, selected_area_color)\n",
    "    masked_canny_edges = cv2.bitwise_and(canny_edges, selected_area)\n",
    "    # ---- HOUGH TRANSFORM LINE DETECTION ----\n",
    "    rho = 1 \n",
    "    theta = np.pi/180 #(2*180) \n",
    "    threshold = 20 \n",
    "    min_line_length = 10 \n",
    "    max_line_gap = 8\n",
    "    hough_lines = cv2.HoughLinesP(masked_canny_edges, rho, theta, threshold, np.array([]),min_line_length, max_line_gap)\n",
    "    hough_lines_image = np.copy(image)*0\n",
    "    hough_lines_with_slopes = []\n",
    "    for line in hough_lines:\n",
    "        for x1,y1,x2,y2 in line:\n",
    "            slope = (y2-y1)/(x2-x1)\n",
    "            hough_lines_with_slopes.append([x1,y1,x2,y2,slope])\n",
    "    \n",
    "    # Classify lines on left and right side\n",
    "    slope_positive = []\n",
    "    slope_negative = []\n",
    "    slope_zero = []\n",
    "    for item in hough_lines_with_slopes:\n",
    "        if item[4] > 0.4:\n",
    "            slope_positive.append(item)\n",
    "        elif item[4] < -0.4:\n",
    "            slope_negative.append(item)\n",
    "        else:\n",
    "            slope_zero.append(item)     # remove lines with slopes close to zero  \n",
    "    \n",
    "    # delete lines with bad slopes\n",
    "    # delete right lines which have very different slope than the longest line\n",
    "    right_line_lengths = []\n",
    "    indices_to_delete_right = []\n",
    "    for line in slope_positive:\n",
    "        right_line_lengths.append(dist(line))\n",
    "    idx = right_line_lengths.index(max(right_line_lengths))\n",
    "    opt_slope = slope_positive[idx][4]\n",
    "    for i in range(len(slope_positive)):\n",
    "        if abs((slope_positive[i][4]-opt_slope)*2*100/(slope_positive[i][4]+opt_slope))>10:\n",
    "            indices_to_delete_right.append(i)\n",
    "        \n",
    "    slope_positive = [i for j, i in enumerate(slope_positive) if j not in indices_to_delete_right]\n",
    "    \n",
    "    # delete left lines which have very different slope than the longest line\n",
    "    left_line_lengths = []\n",
    "    indices_to_delete_left = []\n",
    "    for line in slope_negative:\n",
    "        left_line_lengths.append(dist(line))\n",
    "    idx = left_line_lengths.index(max(left_line_lengths))\n",
    "    opt_slope = slope_negative[idx][4]\n",
    "    for i in range(len(slope_negative)):\n",
    "        if abs((slope_negative[i][4]-opt_slope)*2*100/(slope_negative[i][4]+opt_slope))>10:\n",
    "            indices_to_delete_left.append(i)\n",
    "        \n",
    "    slope_negative = [i for j, i in enumerate(slope_negative) if j not in indices_to_delete_left]\n",
    "    \n",
    "    # averaging of lines\n",
    "    left_lines = []\n",
    "    if len(slope_negative) == 2:\n",
    "        x1=(slope_negative[0][0]+slope_negative[1][0])/2\n",
    "        y1=(slope_negative[0][1]+slope_negative[1][1])/2\n",
    "        x2=(slope_negative[0][2]+slope_negative[1][2])/2\n",
    "        y2=(slope_negative[0][3]+slope_negative[1][3])/2\n",
    "        left_lines.append([x1,y1,x2,y2])\n",
    "    else:\n",
    "        #list has P1(x1,y1) and P2(x2,y2) for all lines. We search for the P1 with smallest y1 and P2 with largest y2 and combine \n",
    "        #them to create a single line # DISCOVERY: P1, P2 are not in order\n",
    "        smallest_y1 = min(slope_negative,key=lambda x: x[1])\n",
    "        smallest_y2 = min(slope_negative,key=lambda x: x[3])\n",
    "        if(smallest_y1[1]<smallest_y2[3]):\n",
    "            p1a_x = smallest_y1[0]\n",
    "            p1a_y = smallest_y1[1]\n",
    "        else:\n",
    "            p1a_x = smallest_y2[2]\n",
    "            p1a_y = smallest_y2[3]\n",
    "    \n",
    "        largest_x1 = max(slope_negative,key=lambda x: x[0])\n",
    "        largest_x2 = max(slope_negative,key=lambda x: x[2])\n",
    "        if(largest_x1[0]>largest_x2[2]):\n",
    "            p1b_x = largest_x1[0]\n",
    "            p1b_y = largest_x1[1]\n",
    "        else:\n",
    "            p1b_x = largest_x2[2]\n",
    "            p1b_y = largest_x2[3]\n",
    "      \n",
    "        p1_x = (p1a_x+p1b_x)/2\n",
    "        p1_y = (p1a_y+p1b_y)/2\n",
    "        \n",
    "        #--------------------------------------        \n",
    "        largest_y1 = max(slope_negative,key=lambda x: x[1])\n",
    "        largest_y2 = max(slope_negative,key=lambda x: x[3])\n",
    "        if(largest_y1[1]>largest_y2[3]):\n",
    "            p2a_x = largest_y1[0]\n",
    "            p2a_y = largest_y1[1]\n",
    "        else:\n",
    "            p2a_x = largest_y2[2]\n",
    "            p2a_y = largest_y2[3]\n",
    "        \n",
    "        smallest_x1 = min(slope_negative,key=lambda x: x[0])\n",
    "        smallest_x2 = min(slope_negative,key=lambda x: x[2])\n",
    "        if(smallest_x1[0]<smallest_x2[2]):\n",
    "            p2b_x = smallest_x1[0]\n",
    "            p2b_y = smallest_x1[1]\n",
    "        else:\n",
    "            p2b_x = smallest_x2[2]\n",
    "            p2b_y = smallest_x2[3]\n",
    "   \n",
    "        p2_x = (p2a_x+p2b_x)/2\n",
    "        p2_y = (p2a_y+p2b_y)/2\n",
    "        \n",
    "        left_lines.append([p1_x,p1_y,p2_x,p2_y])  \n",
    "    \n",
    "    right_lines = []\n",
    "    if len(slope_positive) == 2:\n",
    "        x1=(slope_positive[0][0]+slope_positive[1][0])/2\n",
    "        y1=(slope_positive[0][1]+slope_positive[1][1])/2\n",
    "        x2=(slope_positive[0][2]+slope_positive[1][2])/2\n",
    "        y2=(slope_positive[0][3]+slope_positive[1][3])/2\n",
    "        right_lines.append([x1,y1,x2,y2])\n",
    "    else:\n",
    "        #list has P1(x1,y1) and P2(x2,y2) for all lines. We search for the P1 with smallest y1 and P2 with largest y2 and combine \n",
    "        #them to create a single line\n",
    "        smallest_y1 = min(slope_positive,key=lambda x: x[1])\n",
    "        smallest_y2 = min(slope_positive,key=lambda x: x[3])\n",
    "        if(smallest_y1[1]<smallest_y2[3]):\n",
    "            p1a_x = smallest_y1[0]\n",
    "            p1a_y = smallest_y1[1]\n",
    "        else:\n",
    "            p1a_x = smallest_y2[2]\n",
    "            p1a_y = smallest_y2[3]\n",
    "    \n",
    "        smallest_x1 = min(slope_positive,key=lambda x: x[0])\n",
    "        smallest_x2 = min(slope_positive,key=lambda x: x[2])\n",
    "        if(smallest_x1[0]<smallest_x2[2]):\n",
    "            p1b_x = smallest_x1[0]\n",
    "            p1b_y = smallest_x1[1]\n",
    "        else:\n",
    "            p1b_x = smallest_x2[2]\n",
    "            p1b_y = smallest_x2[3]\n",
    "        \n",
    "        p1_x = (p1a_x+p1b_x)/2\n",
    "        p1_y = (p1a_y+p1b_y)/2\n",
    "        #--------------------------------------            \n",
    "        largest_y1 = max(slope_positive,key=lambda x: x[1])\n",
    "        largest_y2 = max(slope_positive,key=lambda x: x[3])\n",
    "        if(largest_y1[1]>largest_y2[3]):\n",
    "            p2a_x = largest_y1[0]\n",
    "            p2a_y = largest_y1[1]\n",
    "        else:\n",
    "            p2a_x = largest_y2[2]\n",
    "            p2a_y = largest_y2[3]\n",
    "        \n",
    "        largest_x1 = max(slope_positive,key=lambda x: x[0])\n",
    "        largest_x2 = max(slope_positive,key=lambda x: x[2])\n",
    "        if(largest_x1[0]>largest_x2[2]):\n",
    "            p2b_x = largest_x1[0]\n",
    "            p2b_y = largest_x1[1]\n",
    "        else:\n",
    "            p2b_x = largest_x2[2]\n",
    "            p2b_y = largest_x2[3]\n",
    "        \n",
    "        p2_x = (p2a_x+p2b_x)/2\n",
    "        p2_y = (p2a_y+p2b_y)/2\n",
    "        \n",
    "        right_lines.append([p1_x,p1_y,p2_x,p2_y]) \n",
    "        \n",
    "    lines = right_lines + left_lines\n",
    "    for line in lines:\n",
    "        cv2.line(hough_lines_image, (int(line[0]), int(line[1])), (int(line[2]), int(line[3])),[255,0,0], 4) \n",
    "    #Extrapolation\n",
    "    #extrapolate lines[0]\n",
    "    x1 = lines[0][0]\n",
    "    y1 = lines[0][1]\n",
    "    x2 = lines[0][2]\n",
    "    y2 = lines[0][3]\n",
    "    y11 = (y_max/2)+100\n",
    "    y22 = image.shape[0] #extrapolate till image edge  \n",
    "    x11 = x1 + (x2-x1)*(y11-y1)/(y2-y1)\n",
    "    x22 = x2 + (x2-x1)*(y22-y2)/(y2-y1) \n",
    "    lines[0] = [x11,y11,x22,y22]    \n",
    "    #extrapolate lines[1]\n",
    "    x1 = lines[1][0]\n",
    "    y1 = lines[1][1]\n",
    "    x2 = lines[1][2]\n",
    "    y2 = lines[1][3]\n",
    "    y11 = (y_max/2)+100\n",
    "    y22 = image.shape[0] #extrapolate till image edge\n",
    "    x11 = x1 + (x2-x1)*(y11-y1)/(y2-y1)\n",
    "    x22 = x2 + (x2-x1)*(y22-y2)/(y2-y1) \n",
    "    lines[1] = [x11,y11,x22,y22]\n",
    "    extrapolated_lines_image = np.copy(image)*0\n",
    "    for line in lines:\n",
    "        cv2.line(extrapolated_lines_image, (int(line[0]), int(line[1])), (int(line[2]), int(line[3])),[255,0,0], 4)\n",
    "    α=0.8 \n",
    "    β=10.0\n",
    "    γ=10\n",
    "    final_image = weighted_img(extrapolated_lines_image,image1,α,β,γ)\n",
    "    return final_image"
   ]
  },
  {
   "cell_type": "code",
   "execution_count": 5,
   "metadata": {},
   "outputs": [
    {
     "name": "stdout",
     "output_type": "stream",
     "text": [
      "[MoviePy] >>>> Building video test_videos_output/solidWhiteRight.mp4\n",
      "[MoviePy] Writing video test_videos_output/solidWhiteRight.mp4\n"
     ]
    },
    {
     "name": "stderr",
     "output_type": "stream",
     "text": [
      "100%|███████████████████████████████████████████████████████████████████████████████▋| 221/222 [00:10<00:00, 21.65it/s]\n"
     ]
    },
    {
     "name": "stdout",
     "output_type": "stream",
     "text": [
      "[MoviePy] Done.\n",
      "[MoviePy] >>>> Video ready: test_videos_output/solidWhiteRight.mp4 \n",
      "\n",
      "Wall time: 11 s\n"
     ]
    }
   ],
   "source": [
    "white_output = 'test_videos_output/solidWhiteRight.mp4'\n",
    "clip1 = VideoFileClip(\"test_videos/solidWhiteRight.mp4\")\n",
    "white_clip = clip1.fl_image(process_image) #NOTE: this function expects color images!!\n",
    "%time white_clip.write_videofile(white_output, audio=False)"
   ]
  },
  {
   "cell_type": "code",
   "execution_count": 6,
   "metadata": {},
   "outputs": [
    {
     "data": {
      "text/html": [
       "\n",
       "<video width=\"960\" height=\"540\" controls>\n",
       "  <source src=\"test_videos_output/solidWhiteRight.mp4\">\n",
       "</video>\n"
      ],
      "text/plain": [
       "<IPython.core.display.HTML object>"
      ]
     },
     "execution_count": 6,
     "metadata": {},
     "output_type": "execute_result"
    }
   ],
   "source": [
    "HTML(\"\"\"\n",
    "<video width=\"960\" height=\"540\" controls>\n",
    "  <source src=\"{0}\">\n",
    "</video>\n",
    "\"\"\".format(white_output))"
   ]
  },
  {
   "cell_type": "code",
   "execution_count": 7,
   "metadata": {},
   "outputs": [
    {
     "name": "stdout",
     "output_type": "stream",
     "text": [
      "[MoviePy] >>>> Building video test_videos_output/solidYellowLeft.mp4\n",
      "[MoviePy] Writing video test_videos_output/solidYellowLeft.mp4\n"
     ]
    },
    {
     "name": "stderr",
     "output_type": "stream",
     "text": [
      "100%|███████████████████████████████████████████████████████████████████████████████▉| 681/682 [00:31<00:00, 21.75it/s]\n"
     ]
    },
    {
     "name": "stdout",
     "output_type": "stream",
     "text": [
      "[MoviePy] Done.\n",
      "[MoviePy] >>>> Video ready: test_videos_output/solidYellowLeft.mp4 \n",
      "\n",
      "Wall time: 32.1 s\n"
     ]
    }
   ],
   "source": [
    "yellow_output = 'test_videos_output/solidYellowLeft.mp4'\n",
    "clip2 = VideoFileClip('test_videos/solidYellowLeft.mp4')\n",
    "yellow_clip = clip2.fl_image(process_image)\n",
    "%time yellow_clip.write_videofile(yellow_output, audio=False)"
   ]
  },
  {
   "cell_type": "code",
   "execution_count": 8,
   "metadata": {},
   "outputs": [
    {
     "data": {
      "text/html": [
       "\n",
       "<video width=\"960\" height=\"540\" controls>\n",
       "  <source src=\"test_videos_output/solidYellowLeft.mp4\">\n",
       "</video>\n"
      ],
      "text/plain": [
       "<IPython.core.display.HTML object>"
      ]
     },
     "execution_count": 8,
     "metadata": {},
     "output_type": "execute_result"
    }
   ],
   "source": [
    "HTML(\"\"\"\n",
    "<video width=\"960\" height=\"540\" controls>\n",
    "  <source src=\"{0}\">\n",
    "</video>\n",
    "\"\"\".format(yellow_output))"
   ]
  },
  {
   "cell_type": "code",
   "execution_count": 9,
   "metadata": {},
   "outputs": [
    {
     "name": "stdout",
     "output_type": "stream",
     "text": [
      "[MoviePy] >>>> Building video test_videos_output/challenge.mp4\n",
      "[MoviePy] Writing video test_videos_output/challenge.mp4\n"
     ]
    },
    {
     "name": "stderr",
     "output_type": "stream",
     "text": [
      "100%|████████████████████████████████████████████████████████████████████████████████| 251/251 [00:21<00:00, 11.62it/s]\n"
     ]
    },
    {
     "name": "stdout",
     "output_type": "stream",
     "text": [
      "[MoviePy] Done.\n",
      "[MoviePy] >>>> Video ready: test_videos_output/challenge.mp4 \n",
      "\n",
      "Wall time: 23.7 s\n"
     ]
    }
   ],
   "source": [
    "challenge_output = 'test_videos_output/challenge.mp4'\n",
    "clip3 = VideoFileClip('test_videos/challenge.mp4')\n",
    "challenge_clip = clip3.fl_image(process_image)\n",
    "%time challenge_clip.write_videofile(challenge_output, audio=False)"
   ]
  },
  {
   "cell_type": "code",
   "execution_count": 10,
   "metadata": {},
   "outputs": [
    {
     "data": {
      "text/html": [
       "\n",
       "<video width=\"960\" height=\"540\" controls>\n",
       "  <source src=\"test_videos_output/challenge.mp4\">\n",
       "</video>\n"
      ],
      "text/plain": [
       "<IPython.core.display.HTML object>"
      ]
     },
     "execution_count": 10,
     "metadata": {},
     "output_type": "execute_result"
    }
   ],
   "source": [
    "HTML(\"\"\"\n",
    "<video width=\"960\" height=\"540\" controls>\n",
    "  <source src=\"{0}\">\n",
    "</video>\n",
    "\"\"\".format(challenge_output))"
   ]
  }
 ],
 "metadata": {
  "kernelspec": {
   "display_name": "Python 3",
   "language": "python",
   "name": "python3"
  },
  "language_info": {
   "codemirror_mode": {
    "name": "ipython",
    "version": 3
   },
   "file_extension": ".py",
   "mimetype": "text/x-python",
   "name": "python",
   "nbconvert_exporter": "python",
   "pygments_lexer": "ipython3",
   "version": "3.7.0"
  }
 },
 "nbformat": 4,
 "nbformat_minor": 2
}
